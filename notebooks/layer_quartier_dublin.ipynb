{
 "cells": [
  {
   "cell_type": "markdown",
   "id": "71004bd3",
   "metadata": {
    "toc": true
   },
   "source": [
    "<h1>Table of Contents<span class=\"tocSkip\"></span></h1>\n",
    "<div class=\"toc\"><ul class=\"toc-item\"><li><span><a href=\"#DUBLIN-DATA\" data-toc-modified-id=\"DUBLIN-DATA-1\"><span class=\"toc-item-num\">1&nbsp;&nbsp;</span>DUBLIN DATA</a></span></li></ul></div>"
   ]
  },
  {
   "cell_type": "markdown",
   "id": "f95d0bf7",
   "metadata": {},
   "source": [
    "# DUBLIN DATA"
   ]
  },
  {
   "cell_type": "code",
   "execution_count": 63,
   "id": "d806643b",
   "metadata": {},
   "outputs": [],
   "source": [
    "import pandas as pd\n",
    "import folium\n",
    "import requests\n",
    "import geopandas as gpd\n",
    "import matplotlib as plt"
   ]
  },
  {
   "cell_type": "code",
   "execution_count": 64,
   "id": "e5a6cf7e",
   "metadata": {},
   "outputs": [
    {
     "data": {
      "text/html": [
       "<div>\n",
       "<style scoped>\n",
       "    .dataframe tbody tr th:only-of-type {\n",
       "        vertical-align: middle;\n",
       "    }\n",
       "\n",
       "    .dataframe tbody tr th {\n",
       "        vertical-align: top;\n",
       "    }\n",
       "\n",
       "    .dataframe thead th {\n",
       "        text-align: right;\n",
       "    }\n",
       "</style>\n",
       "<table border=\"1\" class=\"dataframe\">\n",
       "  <thead>\n",
       "    <tr style=\"text-align: right;\">\n",
       "      <th></th>\n",
       "      <th>site_name</th>\n",
       "      <th>unit_no</th>\n",
       "      <th>unit_type</th>\n",
       "      <th>latitude</th>\n",
       "      <th>longitude</th>\n",
       "    </tr>\n",
       "  </thead>\n",
       "  <tbody>\n",
       "    <tr>\n",
       "      <th>0</th>\n",
       "      <td>ABBEY COURT (NC)</td>\n",
       "      <td>5</td>\n",
       "      <td>PL: Column</td>\n",
       "      <td>53.378392</td>\n",
       "      <td>-6.209138</td>\n",
       "    </tr>\n",
       "    <tr>\n",
       "      <th>1</th>\n",
       "      <td>ABBEY COURT (NC)</td>\n",
       "      <td>6</td>\n",
       "      <td>PL: Column</td>\n",
       "      <td>53.378546</td>\n",
       "      <td>-6.208917</td>\n",
       "    </tr>\n",
       "    <tr>\n",
       "      <th>2</th>\n",
       "      <td>ABBEY COURT (NC)</td>\n",
       "      <td>7</td>\n",
       "      <td>PL: Column</td>\n",
       "      <td>53.378623</td>\n",
       "      <td>-6.208658</td>\n",
       "    </tr>\n",
       "    <tr>\n",
       "      <th>3</th>\n",
       "      <td>ABBEY COURT (NC)</td>\n",
       "      <td>8</td>\n",
       "      <td>PL: Column</td>\n",
       "      <td>53.378501</td>\n",
       "      <td>-6.208273</td>\n",
       "    </tr>\n",
       "    <tr>\n",
       "      <th>4</th>\n",
       "      <td>ABBEY DRIVE (C)</td>\n",
       "      <td>1</td>\n",
       "      <td>PL: Column</td>\n",
       "      <td>53.373450</td>\n",
       "      <td>-6.311746</td>\n",
       "    </tr>\n",
       "  </tbody>\n",
       "</table>\n",
       "</div>"
      ],
      "text/plain": [
       "          site_name unit_no   unit_type   latitude  longitude\n",
       "0  ABBEY COURT (NC)       5  PL: Column  53.378392  -6.209138\n",
       "1  ABBEY COURT (NC)       6  PL: Column  53.378546  -6.208917\n",
       "2  ABBEY COURT (NC)       7  PL: Column  53.378623  -6.208658\n",
       "3  ABBEY COURT (NC)       8  PL: Column  53.378501  -6.208273\n",
       "4   ABBEY DRIVE (C)       1  PL: Column  53.373450  -6.311746"
      ]
     },
     "execution_count": 64,
     "metadata": {},
     "output_type": "execute_result"
    }
   ],
   "source": [
    "light = pd.read_csv('../data_dublin/light_location.csv')\n",
    "light.head()"
   ]
  },
  {
   "cell_type": "code",
   "execution_count": 65,
   "id": "8fae5cc3",
   "metadata": {},
   "outputs": [
    {
     "data": {
      "text/plain": [
       "(45298,)"
      ]
     },
     "execution_count": 65,
     "metadata": {},
     "output_type": "execute_result"
    }
   ],
   "source": [
    "light.latitude.shape"
   ]
  },
  {
   "cell_type": "code",
   "execution_count": 66,
   "id": "8988ce0d",
   "metadata": {},
   "outputs": [
    {
     "data": {
      "text/plain": [
       "(45017, 5)"
      ]
     },
     "execution_count": 66,
     "metadata": {},
     "output_type": "execute_result"
    }
   ],
   "source": [
    "light[light.latitude>53].shape"
   ]
  },
  {
   "cell_type": "code",
   "execution_count": 67,
   "id": "8cf7d134",
   "metadata": {},
   "outputs": [
    {
     "data": {
      "text/plain": [
       "(45298,)"
      ]
     },
     "execution_count": 67,
     "metadata": {},
     "output_type": "execute_result"
    }
   ],
   "source": [
    "light.longitude.shape"
   ]
  },
  {
   "cell_type": "code",
   "execution_count": 68,
   "id": "2db0f65f",
   "metadata": {},
   "outputs": [
    {
     "data": {
      "text/plain": [
       "(45017, 5)"
      ]
     },
     "execution_count": 68,
     "metadata": {},
     "output_type": "execute_result"
    }
   ],
   "source": [
    "light[light.longitude<0].shape"
   ]
  },
  {
   "cell_type": "code",
   "execution_count": 69,
   "id": "5b350812",
   "metadata": {},
   "outputs": [
    {
     "data": {
      "text/plain": [
       "site_name    0\n",
       "unit_no      1\n",
       "unit_type    0\n",
       "latitude     0\n",
       "longitude    0\n",
       "dtype: int64"
      ]
     },
     "execution_count": 69,
     "metadata": {},
     "output_type": "execute_result"
    }
   ],
   "source": [
    "light.isna().sum()"
   ]
  },
  {
   "cell_type": "code",
   "execution_count": 70,
   "id": "8ec1da0c",
   "metadata": {},
   "outputs": [
    {
     "data": {
      "text/html": [
       "<div>\n",
       "<style scoped>\n",
       "    .dataframe tbody tr th:only-of-type {\n",
       "        vertical-align: middle;\n",
       "    }\n",
       "\n",
       "    .dataframe tbody tr th {\n",
       "        vertical-align: top;\n",
       "    }\n",
       "\n",
       "    .dataframe thead th {\n",
       "        text-align: right;\n",
       "    }\n",
       "</style>\n",
       "<table border=\"1\" class=\"dataframe\">\n",
       "  <thead>\n",
       "    <tr style=\"text-align: right;\">\n",
       "      <th></th>\n",
       "      <th>site_name</th>\n",
       "      <th>latitude</th>\n",
       "      <th>longitude</th>\n",
       "    </tr>\n",
       "  </thead>\n",
       "  <tbody>\n",
       "    <tr>\n",
       "      <th>0</th>\n",
       "      <td>ABBEY COURT (NC)</td>\n",
       "      <td>53.378392</td>\n",
       "      <td>-6.209138</td>\n",
       "    </tr>\n",
       "    <tr>\n",
       "      <th>1</th>\n",
       "      <td>ABBEY COURT (NC)</td>\n",
       "      <td>53.378546</td>\n",
       "      <td>-6.208917</td>\n",
       "    </tr>\n",
       "    <tr>\n",
       "      <th>2</th>\n",
       "      <td>ABBEY COURT (NC)</td>\n",
       "      <td>53.378623</td>\n",
       "      <td>-6.208658</td>\n",
       "    </tr>\n",
       "    <tr>\n",
       "      <th>3</th>\n",
       "      <td>ABBEY COURT (NC)</td>\n",
       "      <td>53.378501</td>\n",
       "      <td>-6.208273</td>\n",
       "    </tr>\n",
       "    <tr>\n",
       "      <th>4</th>\n",
       "      <td>ABBEY DRIVE (C)</td>\n",
       "      <td>53.373450</td>\n",
       "      <td>-6.311746</td>\n",
       "    </tr>\n",
       "  </tbody>\n",
       "</table>\n",
       "</div>"
      ],
      "text/plain": [
       "          site_name   latitude  longitude\n",
       "0  ABBEY COURT (NC)  53.378392  -6.209138\n",
       "1  ABBEY COURT (NC)  53.378546  -6.208917\n",
       "2  ABBEY COURT (NC)  53.378623  -6.208658\n",
       "3  ABBEY COURT (NC)  53.378501  -6.208273\n",
       "4   ABBEY DRIVE (C)  53.373450  -6.311746"
      ]
     },
     "execution_count": 70,
     "metadata": {},
     "output_type": "execute_result"
    }
   ],
   "source": [
    "light_locations = light[[\"site_name\",\"latitude\", \"longitude\"]]\n",
    "light_locations.head()"
   ]
  },
  {
   "cell_type": "code",
   "execution_count": 71,
   "id": "a0476cc4",
   "metadata": {},
   "outputs": [
    {
     "data": {
      "text/html": [
       "<div>\n",
       "<style scoped>\n",
       "    .dataframe tbody tr th:only-of-type {\n",
       "        vertical-align: middle;\n",
       "    }\n",
       "\n",
       "    .dataframe tbody tr th {\n",
       "        vertical-align: top;\n",
       "    }\n",
       "\n",
       "    .dataframe thead th {\n",
       "        text-align: right;\n",
       "    }\n",
       "</style>\n",
       "<table border=\"1\" class=\"dataframe\">\n",
       "  <thead>\n",
       "    <tr style=\"text-align: right;\">\n",
       "      <th></th>\n",
       "      <th>OBJECTID</th>\n",
       "      <th>GUID</th>\n",
       "      <th>NUTS1</th>\n",
       "      <th>NUTS1NAME</th>\n",
       "      <th>NUTS2</th>\n",
       "      <th>NUTS2NAME</th>\n",
       "      <th>NUTS3</th>\n",
       "      <th>NUTS3NAME</th>\n",
       "      <th>COUNTY</th>\n",
       "      <th>COUNTYNAME</th>\n",
       "      <th>...</th>\n",
       "      <th>EDNAME</th>\n",
       "      <th>SA_PUB2011</th>\n",
       "      <th>SMALL_AREA</th>\n",
       "      <th>GEOGID</th>\n",
       "      <th>AREA</th>\n",
       "      <th>CHANGECODE</th>\n",
       "      <th>ESRI_OID</th>\n",
       "      <th>Shape__Area</th>\n",
       "      <th>Shape__Length</th>\n",
       "      <th>geometry</th>\n",
       "    </tr>\n",
       "  </thead>\n",
       "  <tbody>\n",
       "    <tr>\n",
       "      <th>0</th>\n",
       "      <td>1</td>\n",
       "      <td>4c07d11d-f71d-851d-e053-ca3ca8c0ca7f</td>\n",
       "      <td>IE</td>\n",
       "      <td>Ireland</td>\n",
       "      <td>IE05</td>\n",
       "      <td>Southern</td>\n",
       "      <td>IE053</td>\n",
       "      <td>South-West</td>\n",
       "      <td>CK</td>\n",
       "      <td>Cork County</td>\n",
       "      <td>...</td>\n",
       "      <td>Aultagh</td>\n",
       "      <td>047014001</td>\n",
       "      <td>047014001</td>\n",
       "      <td>A047014001</td>\n",
       "      <td>0</td>\n",
       "      <td>0</td>\n",
       "      <td>1</td>\n",
       "      <td>2.436467e+07</td>\n",
       "      <td>24285.693577</td>\n",
       "      <td>POLYGON ((-9.07555 51.80302, -9.07427 51.80109...</td>\n",
       "    </tr>\n",
       "    <tr>\n",
       "      <th>1</th>\n",
       "      <td>2</td>\n",
       "      <td>4c07d11d-f71e-851d-e053-ca3ca8c0ca7f</td>\n",
       "      <td>IE</td>\n",
       "      <td>Ireland</td>\n",
       "      <td>IE05</td>\n",
       "      <td>Southern</td>\n",
       "      <td>IE053</td>\n",
       "      <td>South-West</td>\n",
       "      <td>CK</td>\n",
       "      <td>Cork County</td>\n",
       "      <td>...</td>\n",
       "      <td>Ballymoney</td>\n",
       "      <td>047034002</td>\n",
       "      <td>047034002</td>\n",
       "      <td>A047034002</td>\n",
       "      <td>0</td>\n",
       "      <td>0</td>\n",
       "      <td>2</td>\n",
       "      <td>1.216669e+07</td>\n",
       "      <td>22919.369007</td>\n",
       "      <td>POLYGON ((-8.96697 51.74324, -8.96587 51.74324...</td>\n",
       "    </tr>\n",
       "    <tr>\n",
       "      <th>2</th>\n",
       "      <td>3</td>\n",
       "      <td>4c07d11d-f71f-851d-e053-ca3ca8c0ca7f</td>\n",
       "      <td>IE</td>\n",
       "      <td>Ireland</td>\n",
       "      <td>IE05</td>\n",
       "      <td>Southern</td>\n",
       "      <td>IE053</td>\n",
       "      <td>South-West</td>\n",
       "      <td>CK</td>\n",
       "      <td>Cork County</td>\n",
       "      <td>...</td>\n",
       "      <td>Boulteen</td>\n",
       "      <td>047056001</td>\n",
       "      <td>047056001</td>\n",
       "      <td>A047056001</td>\n",
       "      <td>0</td>\n",
       "      <td>0</td>\n",
       "      <td>3</td>\n",
       "      <td>9.329198e+06</td>\n",
       "      <td>17619.435026</td>\n",
       "      <td>POLYGON ((-8.89098 51.73719, -8.89060 51.73520...</td>\n",
       "    </tr>\n",
       "    <tr>\n",
       "      <th>3</th>\n",
       "      <td>4</td>\n",
       "      <td>4c07d11d-f720-851d-e053-ca3ca8c0ca7f</td>\n",
       "      <td>IE</td>\n",
       "      <td>Ireland</td>\n",
       "      <td>IE05</td>\n",
       "      <td>Southern</td>\n",
       "      <td>IE053</td>\n",
       "      <td>South-West</td>\n",
       "      <td>CK</td>\n",
       "      <td>Cork County</td>\n",
       "      <td>...</td>\n",
       "      <td>Teadies</td>\n",
       "      <td>047300001</td>\n",
       "      <td>047300001</td>\n",
       "      <td>A047300001</td>\n",
       "      <td>0</td>\n",
       "      <td>0</td>\n",
       "      <td>4</td>\n",
       "      <td>1.135378e+07</td>\n",
       "      <td>21541.504297</td>\n",
       "      <td>POLYGON ((-8.84975 51.77233, -8.84884 51.77263...</td>\n",
       "    </tr>\n",
       "    <tr>\n",
       "      <th>4</th>\n",
       "      <td>5</td>\n",
       "      <td>4c07d11d-f564-851d-e053-ca3ca8c0ca7f</td>\n",
       "      <td>IE</td>\n",
       "      <td>Ireland</td>\n",
       "      <td>IE04</td>\n",
       "      <td>Northern and Western</td>\n",
       "      <td>IE042</td>\n",
       "      <td>West</td>\n",
       "      <td>GY</td>\n",
       "      <td>Galway County</td>\n",
       "      <td>...</td>\n",
       "      <td>Letterfore</td>\n",
       "      <td>067162001</td>\n",
       "      <td>067162001</td>\n",
       "      <td>A067162001</td>\n",
       "      <td>0</td>\n",
       "      <td>0</td>\n",
       "      <td>5</td>\n",
       "      <td>8.134802e+07</td>\n",
       "      <td>69626.405901</td>\n",
       "      <td>POLYGON ((-9.38676 53.48863, -9.33005 53.47473...</td>\n",
       "    </tr>\n",
       "  </tbody>\n",
       "</table>\n",
       "<p>5 rows × 22 columns</p>\n",
       "</div>"
      ],
      "text/plain": [
       "   OBJECTID                                  GUID NUTS1 NUTS1NAME NUTS2  \\\n",
       "0         1  4c07d11d-f71d-851d-e053-ca3ca8c0ca7f    IE   Ireland  IE05   \n",
       "1         2  4c07d11d-f71e-851d-e053-ca3ca8c0ca7f    IE   Ireland  IE05   \n",
       "2         3  4c07d11d-f71f-851d-e053-ca3ca8c0ca7f    IE   Ireland  IE05   \n",
       "3         4  4c07d11d-f720-851d-e053-ca3ca8c0ca7f    IE   Ireland  IE05   \n",
       "4         5  4c07d11d-f564-851d-e053-ca3ca8c0ca7f    IE   Ireland  IE04   \n",
       "\n",
       "              NUTS2NAME  NUTS3   NUTS3NAME COUNTY     COUNTYNAME  ...  \\\n",
       "0              Southern  IE053  South-West     CK    Cork County  ...   \n",
       "1              Southern  IE053  South-West     CK    Cork County  ...   \n",
       "2              Southern  IE053  South-West     CK    Cork County  ...   \n",
       "3              Southern  IE053  South-West     CK    Cork County  ...   \n",
       "4  Northern and Western  IE042        West     GY  Galway County  ...   \n",
       "\n",
       "       EDNAME SA_PUB2011 SMALL_AREA      GEOGID AREA CHANGECODE  ESRI_OID  \\\n",
       "0     Aultagh  047014001  047014001  A047014001    0          0         1   \n",
       "1  Ballymoney  047034002  047034002  A047034002    0          0         2   \n",
       "2    Boulteen  047056001  047056001  A047056001    0          0         3   \n",
       "3     Teadies  047300001  047300001  A047300001    0          0         4   \n",
       "4  Letterfore  067162001  067162001  A067162001    0          0         5   \n",
       "\n",
       "    Shape__Area  Shape__Length  \\\n",
       "0  2.436467e+07   24285.693577   \n",
       "1  1.216669e+07   22919.369007   \n",
       "2  9.329198e+06   17619.435026   \n",
       "3  1.135378e+07   21541.504297   \n",
       "4  8.134802e+07   69626.405901   \n",
       "\n",
       "                                            geometry  \n",
       "0  POLYGON ((-9.07555 51.80302, -9.07427 51.80109...  \n",
       "1  POLYGON ((-8.96697 51.74324, -8.96587 51.74324...  \n",
       "2  POLYGON ((-8.89098 51.73719, -8.89060 51.73520...  \n",
       "3  POLYGON ((-8.84975 51.77233, -8.84884 51.77263...  \n",
       "4  POLYGON ((-9.38676 53.48863, -9.33005 53.47473...  \n",
       "\n",
       "[5 rows x 22 columns]"
      ]
     },
     "execution_count": 71,
     "metadata": {},
     "output_type": "execute_result"
    }
   ],
   "source": [
    "geojson_map = gpd.read_file('/Users/pabaz/code/Pabaz22/PROJET_SMART_LIGHTING/Small_Areas_Generalised_20m_-_OSi_National_Statistical_Boundaries_-_2015.geojson')\n",
    "geojson_map.head()"
   ]
  },
  {
   "cell_type": "code",
   "execution_count": null,
   "id": "31107268",
   "metadata": {},
   "outputs": [],
   "source": [
    "url = 'https://services6.arcgis.com/uWTLlTypaM5QTKd2/arcgis/rest/services/EDs_CSO/FeatureServer/2'"
   ]
  },
  {
   "cell_type": "code",
   "execution_count": null,
   "id": "5d66bd3c",
   "metadata": {},
   "outputs": [],
   "source": [
    "response = requests.get(url)"
   ]
  },
  {
   "cell_type": "code",
   "execution_count": 72,
   "id": "90def069",
   "metadata": {},
   "outputs": [
    {
     "ename": "KeyError",
     "evalue": "\"None of [Float64Index([53.378392, 53.378546, 53.378623, 53.378501,  53.37345, 53.373191,\\n              53.372947, 53.372692, 53.372533, 53.372285,\\n              ...\\n              53.309581, 53.309239, 53.308931,  53.30859,   53.3083, 53.307986,\\n              53.307344, 53.306949, 53.306595, 53.306577],\\n             dtype='float64', length=45298)] are in the [columns]\"",
     "output_type": "error",
     "traceback": [
      "\u001b[0;31m---------------------------------------------------------------------------\u001b[0m",
      "\u001b[0;31mKeyError\u001b[0m                                  Traceback (most recent call last)",
      "\u001b[0;32m/var/folders/_6/6cb3bpl50nq7c4wsd9l8dt240000gn/T/ipykernel_45577/1688601181.py\u001b[0m in \u001b[0;36m<module>\u001b[0;34m\u001b[0m\n\u001b[0;32m----> 1\u001b[0;31m \u001b[0mmap\u001b[0m \u001b[0;34m=\u001b[0m \u001b[0mfolium\u001b[0m\u001b[0;34m.\u001b[0m\u001b[0mMap\u001b[0m\u001b[0;34m(\u001b[0m\u001b[0mlocation\u001b[0m\u001b[0;34m=\u001b[0m\u001b[0;34m[\u001b[0m\u001b[0mlight_locations\u001b[0m\u001b[0;34m[\u001b[0m\u001b[0mlight_locations\u001b[0m\u001b[0;34m.\u001b[0m\u001b[0mlatitude\u001b[0m\u001b[0;34m]\u001b[0m\u001b[0;34m.\u001b[0m\u001b[0mmean\u001b[0m\u001b[0;34m(\u001b[0m\u001b[0;34m)\u001b[0m\u001b[0;34m,\u001b[0m \u001b[0mlight_locations\u001b[0m\u001b[0;34m[\u001b[0m\u001b[0mlight_locations\u001b[0m\u001b[0;34m.\u001b[0m\u001b[0mlongitude\u001b[0m\u001b[0;34m<\u001b[0m\u001b[0;36m0\u001b[0m\u001b[0;34m]\u001b[0m\u001b[0;34m.\u001b[0m\u001b[0mmean\u001b[0m\u001b[0;34m(\u001b[0m\u001b[0;34m)\u001b[0m\u001b[0;34m]\u001b[0m\u001b[0;34m,\u001b[0m \u001b[0mzoom_start\u001b[0m\u001b[0;34m=\u001b[0m\u001b[0;36m14\u001b[0m\u001b[0;34m,\u001b[0m \u001b[0mcontrol_scale\u001b[0m\u001b[0;34m=\u001b[0m\u001b[0;32mTrue\u001b[0m\u001b[0;34m)\u001b[0m\u001b[0;34m\u001b[0m\u001b[0;34m\u001b[0m\u001b[0m\n\u001b[0m\u001b[1;32m      2\u001b[0m \u001b[0mmap\u001b[0m\u001b[0;34m\u001b[0m\u001b[0;34m\u001b[0m\u001b[0m\n",
      "\u001b[0;32m~/.pyenv/versions/slcities_env/lib/python3.8/site-packages/pandas/core/frame.py\u001b[0m in \u001b[0;36m__getitem__\u001b[0;34m(self, key)\u001b[0m\n\u001b[1;32m   3459\u001b[0m             \u001b[0;32mif\u001b[0m \u001b[0mis_iterator\u001b[0m\u001b[0;34m(\u001b[0m\u001b[0mkey\u001b[0m\u001b[0;34m)\u001b[0m\u001b[0;34m:\u001b[0m\u001b[0;34m\u001b[0m\u001b[0;34m\u001b[0m\u001b[0m\n\u001b[1;32m   3460\u001b[0m                 \u001b[0mkey\u001b[0m \u001b[0;34m=\u001b[0m \u001b[0mlist\u001b[0m\u001b[0;34m(\u001b[0m\u001b[0mkey\u001b[0m\u001b[0;34m)\u001b[0m\u001b[0;34m\u001b[0m\u001b[0;34m\u001b[0m\u001b[0m\n\u001b[0;32m-> 3461\u001b[0;31m             \u001b[0mindexer\u001b[0m \u001b[0;34m=\u001b[0m \u001b[0mself\u001b[0m\u001b[0;34m.\u001b[0m\u001b[0mloc\u001b[0m\u001b[0;34m.\u001b[0m\u001b[0m_get_listlike_indexer\u001b[0m\u001b[0;34m(\u001b[0m\u001b[0mkey\u001b[0m\u001b[0;34m,\u001b[0m \u001b[0maxis\u001b[0m\u001b[0;34m=\u001b[0m\u001b[0;36m1\u001b[0m\u001b[0;34m)\u001b[0m\u001b[0;34m[\u001b[0m\u001b[0;36m1\u001b[0m\u001b[0;34m]\u001b[0m\u001b[0;34m\u001b[0m\u001b[0;34m\u001b[0m\u001b[0m\n\u001b[0m\u001b[1;32m   3462\u001b[0m \u001b[0;34m\u001b[0m\u001b[0m\n\u001b[1;32m   3463\u001b[0m         \u001b[0;31m# take() does not accept boolean indexers\u001b[0m\u001b[0;34m\u001b[0m\u001b[0;34m\u001b[0m\u001b[0;34m\u001b[0m\u001b[0m\n",
      "\u001b[0;32m~/.pyenv/versions/slcities_env/lib/python3.8/site-packages/pandas/core/indexing.py\u001b[0m in \u001b[0;36m_get_listlike_indexer\u001b[0;34m(self, key, axis)\u001b[0m\n\u001b[1;32m   1312\u001b[0m             \u001b[0mkeyarr\u001b[0m\u001b[0;34m,\u001b[0m \u001b[0mindexer\u001b[0m\u001b[0;34m,\u001b[0m \u001b[0mnew_indexer\u001b[0m \u001b[0;34m=\u001b[0m \u001b[0max\u001b[0m\u001b[0;34m.\u001b[0m\u001b[0m_reindex_non_unique\u001b[0m\u001b[0;34m(\u001b[0m\u001b[0mkeyarr\u001b[0m\u001b[0;34m)\u001b[0m\u001b[0;34m\u001b[0m\u001b[0;34m\u001b[0m\u001b[0m\n\u001b[1;32m   1313\u001b[0m \u001b[0;34m\u001b[0m\u001b[0m\n\u001b[0;32m-> 1314\u001b[0;31m         \u001b[0mself\u001b[0m\u001b[0;34m.\u001b[0m\u001b[0m_validate_read_indexer\u001b[0m\u001b[0;34m(\u001b[0m\u001b[0mkeyarr\u001b[0m\u001b[0;34m,\u001b[0m \u001b[0mindexer\u001b[0m\u001b[0;34m,\u001b[0m \u001b[0maxis\u001b[0m\u001b[0;34m)\u001b[0m\u001b[0;34m\u001b[0m\u001b[0;34m\u001b[0m\u001b[0m\n\u001b[0m\u001b[1;32m   1315\u001b[0m \u001b[0;34m\u001b[0m\u001b[0m\n\u001b[1;32m   1316\u001b[0m         if needs_i8_conversion(ax.dtype) or isinstance(\n",
      "\u001b[0;32m~/.pyenv/versions/slcities_env/lib/python3.8/site-packages/pandas/core/indexing.py\u001b[0m in \u001b[0;36m_validate_read_indexer\u001b[0;34m(self, key, indexer, axis)\u001b[0m\n\u001b[1;32m   1372\u001b[0m                 \u001b[0;32mif\u001b[0m \u001b[0muse_interval_msg\u001b[0m\u001b[0;34m:\u001b[0m\u001b[0;34m\u001b[0m\u001b[0;34m\u001b[0m\u001b[0m\n\u001b[1;32m   1373\u001b[0m                     \u001b[0mkey\u001b[0m \u001b[0;34m=\u001b[0m \u001b[0mlist\u001b[0m\u001b[0;34m(\u001b[0m\u001b[0mkey\u001b[0m\u001b[0;34m)\u001b[0m\u001b[0;34m\u001b[0m\u001b[0;34m\u001b[0m\u001b[0m\n\u001b[0;32m-> 1374\u001b[0;31m                 \u001b[0;32mraise\u001b[0m \u001b[0mKeyError\u001b[0m\u001b[0;34m(\u001b[0m\u001b[0;34mf\"None of [{key}] are in the [{axis_name}]\"\u001b[0m\u001b[0;34m)\u001b[0m\u001b[0;34m\u001b[0m\u001b[0;34m\u001b[0m\u001b[0m\n\u001b[0m\u001b[1;32m   1375\u001b[0m \u001b[0;34m\u001b[0m\u001b[0m\n\u001b[1;32m   1376\u001b[0m             \u001b[0mnot_found\u001b[0m \u001b[0;34m=\u001b[0m \u001b[0mlist\u001b[0m\u001b[0;34m(\u001b[0m\u001b[0mensure_index\u001b[0m\u001b[0;34m(\u001b[0m\u001b[0mkey\u001b[0m\u001b[0;34m)\u001b[0m\u001b[0;34m[\u001b[0m\u001b[0mmissing_mask\u001b[0m\u001b[0;34m.\u001b[0m\u001b[0mnonzero\u001b[0m\u001b[0;34m(\u001b[0m\u001b[0;34m)\u001b[0m\u001b[0;34m[\u001b[0m\u001b[0;36m0\u001b[0m\u001b[0;34m]\u001b[0m\u001b[0;34m]\u001b[0m\u001b[0;34m.\u001b[0m\u001b[0munique\u001b[0m\u001b[0;34m(\u001b[0m\u001b[0;34m)\u001b[0m\u001b[0;34m)\u001b[0m\u001b[0;34m\u001b[0m\u001b[0;34m\u001b[0m\u001b[0m\n",
      "\u001b[0;31mKeyError\u001b[0m: \"None of [Float64Index([53.378392, 53.378546, 53.378623, 53.378501,  53.37345, 53.373191,\\n              53.372947, 53.372692, 53.372533, 53.372285,\\n              ...\\n              53.309581, 53.309239, 53.308931,  53.30859,   53.3083, 53.307986,\\n              53.307344, 53.306949, 53.306595, 53.306577],\\n             dtype='float64', length=45298)] are in the [columns]\""
     ]
    }
   ],
   "source": [
    "map = folium.Map(location=[light_locations[light_locations.latitude].mean(), light_locations[light_locations.longitude<0].mean()], zoom_start=14, control_scale=True)\n",
    "map"
   ]
  },
  {
   "cell_type": "code",
   "execution_count": 73,
   "id": "42c4a8d9",
   "metadata": {},
   "outputs": [
    {
     "ename": "ValueError",
     "evalue": "Expected two (lat, lon) values for location, instead got: [].",
     "output_type": "error",
     "traceback": [
      "\u001b[0;31m---------------------------------------------------------------------------\u001b[0m",
      "\u001b[0;31mValueError\u001b[0m                                Traceback (most recent call last)",
      "\u001b[0;32m/var/folders/_6/6cb3bpl50nq7c4wsd9l8dt240000gn/T/ipykernel_45577/1172012613.py\u001b[0m in \u001b[0;36m<module>\u001b[0;34m\u001b[0m\n\u001b[0;32m----> 1\u001b[0;31m \u001b[0mgeomap\u001b[0m \u001b[0;34m=\u001b[0m \u001b[0mfolium\u001b[0m\u001b[0;34m.\u001b[0m\u001b[0mMap\u001b[0m\u001b[0;34m(\u001b[0m\u001b[0mlocation\u001b[0m\u001b[0;34m=\u001b[0m\u001b[0;34m[\u001b[0m\u001b[0;34m]\u001b[0m\u001b[0;34m,\u001b[0m \u001b[0mzoom_start\u001b[0m\u001b[0;34m=\u001b[0m\u001b[0;36m14\u001b[0m\u001b[0;34m,\u001b[0m \u001b[0mcontrol_scale\u001b[0m\u001b[0;34m=\u001b[0m\u001b[0;32mTrue\u001b[0m\u001b[0;34m)\u001b[0m\u001b[0;34m\u001b[0m\u001b[0;34m\u001b[0m\u001b[0m\n\u001b[0m",
      "\u001b[0;32m~/.pyenv/versions/slcities_env/lib/python3.8/site-packages/folium/folium.py\u001b[0m in \u001b[0;36m__init__\u001b[0;34m(self, location, width, height, left, top, position, tiles, attr, min_zoom, max_zoom, zoom_start, min_lat, max_lat, min_lon, max_lon, max_bounds, crs, control_scale, prefer_canvas, no_touch, disable_3d, png_enabled, zoom_control, **kwargs)\u001b[0m\n\u001b[1;32m    253\u001b[0m             \u001b[0mzoom_start\u001b[0m \u001b[0;34m=\u001b[0m \u001b[0;36m1\u001b[0m\u001b[0;34m\u001b[0m\u001b[0;34m\u001b[0m\u001b[0m\n\u001b[1;32m    254\u001b[0m         \u001b[0;32melse\u001b[0m\u001b[0;34m:\u001b[0m\u001b[0;34m\u001b[0m\u001b[0;34m\u001b[0m\u001b[0m\n\u001b[0;32m--> 255\u001b[0;31m             \u001b[0mself\u001b[0m\u001b[0;34m.\u001b[0m\u001b[0mlocation\u001b[0m \u001b[0;34m=\u001b[0m \u001b[0mvalidate_location\u001b[0m\u001b[0;34m(\u001b[0m\u001b[0mlocation\u001b[0m\u001b[0;34m)\u001b[0m\u001b[0;34m\u001b[0m\u001b[0;34m\u001b[0m\u001b[0m\n\u001b[0m\u001b[1;32m    256\u001b[0m \u001b[0;34m\u001b[0m\u001b[0m\n\u001b[1;32m    257\u001b[0m         \u001b[0mFigure\u001b[0m\u001b[0;34m(\u001b[0m\u001b[0;34m)\u001b[0m\u001b[0;34m.\u001b[0m\u001b[0madd_child\u001b[0m\u001b[0;34m(\u001b[0m\u001b[0mself\u001b[0m\u001b[0;34m)\u001b[0m\u001b[0;34m\u001b[0m\u001b[0;34m\u001b[0m\u001b[0m\n",
      "\u001b[0;32m~/.pyenv/versions/slcities_env/lib/python3.8/site-packages/folium/utilities.py\u001b[0m in \u001b[0;36mvalidate_location\u001b[0;34m(location)\u001b[0m\n\u001b[1;32m     48\u001b[0m                         '{!r} of type {}.'.format(location, type(location)))\n\u001b[1;32m     49\u001b[0m     \u001b[0;32mif\u001b[0m \u001b[0mlen\u001b[0m\u001b[0;34m(\u001b[0m\u001b[0mlocation\u001b[0m\u001b[0;34m)\u001b[0m \u001b[0;34m!=\u001b[0m \u001b[0;36m2\u001b[0m\u001b[0;34m:\u001b[0m\u001b[0;34m\u001b[0m\u001b[0;34m\u001b[0m\u001b[0m\n\u001b[0;32m---> 50\u001b[0;31m         raise ValueError('Expected two (lat, lon) values for location, '\n\u001b[0m\u001b[1;32m     51\u001b[0m                          'instead got: {!r}.'.format(location))\n\u001b[1;32m     52\u001b[0m     \u001b[0;32mtry\u001b[0m\u001b[0;34m:\u001b[0m\u001b[0;34m\u001b[0m\u001b[0;34m\u001b[0m\u001b[0m\n",
      "\u001b[0;31mValueError\u001b[0m: Expected two (lat, lon) values for location, instead got: []."
     ]
    }
   ],
   "source": [
    "geomap = folium.Map(location=[], zoom_start=14, control_scale=True)"
   ]
  }
 ],
 "metadata": {
  "kernelspec": {
   "display_name": "slcities_env",
   "language": "python",
   "name": "slcities_env"
  },
  "language_info": {
   "codemirror_mode": {
    "name": "ipython",
    "version": 3
   },
   "file_extension": ".py",
   "mimetype": "text/x-python",
   "name": "python",
   "nbconvert_exporter": "python",
   "pygments_lexer": "ipython3",
   "version": "3.8.6"
  },
  "nbTranslate": {
   "displayLangs": [
    "*"
   ],
   "hotkey": "alt-t",
   "langInMainMenu": true,
   "sourceLang": "en",
   "targetLang": "fr",
   "useGoogleTranslate": true
  },
  "toc": {
   "base_numbering": 1,
   "nav_menu": {},
   "number_sections": true,
   "sideBar": true,
   "skip_h1_title": false,
   "title_cell": "Table of Contents",
   "title_sidebar": "Contents",
   "toc_cell": true,
   "toc_position": {},
   "toc_section_display": true,
   "toc_window_display": true
  },
  "varInspector": {
   "cols": {
    "lenName": 16,
    "lenType": 16,
    "lenVar": 40
   },
   "kernels_config": {
    "python": {
     "delete_cmd_postfix": "",
     "delete_cmd_prefix": "del ",
     "library": "var_list.py",
     "varRefreshCmd": "print(var_dic_list())"
    },
    "r": {
     "delete_cmd_postfix": ") ",
     "delete_cmd_prefix": "rm(",
     "library": "var_list.r",
     "varRefreshCmd": "cat(var_dic_list()) "
    }
   },
   "types_to_exclude": [
    "module",
    "function",
    "builtin_function_or_method",
    "instance",
    "_Feature"
   ],
   "window_display": false
  }
 },
 "nbformat": 4,
 "nbformat_minor": 5
}
