{
 "cells": [
  {
   "cell_type": "code",
   "execution_count": 1,
   "id": "a177dad1",
   "metadata": {},
   "outputs": [],
   "source": [
    "import pandas as pd"
   ]
  },
  {
   "cell_type": "code",
   "execution_count": 95,
   "id": "ca4681d7",
   "metadata": {},
   "outputs": [],
   "source": [
    "data_2019 = pd.read_csv('raw_data/dcc-2019-pedestrian-footfall-count-jan-dec_14082020.csv')"
   ]
  },
  {
   "cell_type": "code",
   "execution_count": 75,
   "id": "fb6481a0",
   "metadata": {
    "scrolled": true
   },
   "outputs": [
    {
     "data": {
      "text/plain": [
       "(35036, 24)"
      ]
     },
     "execution_count": 75,
     "metadata": {},
     "output_type": "execute_result"
    }
   ],
   "source": [
    "data_2019.shape"
   ]
  },
  {
   "cell_type": "code",
   "execution_count": 103,
   "id": "7fb121a7",
   "metadata": {
    "scrolled": true
   },
   "outputs": [
    {
     "data": {
      "text/plain": [
       "Time                                                   0\n",
       "O'Connell St Outside Pennys                            0\n",
       "O'Connell St Outside Clerys                        26277\n",
       "Mary Street                                            0\n",
       "Capel Street                                           0\n",
       "Aston Quay                                          5664\n",
       "Grafton Street @ CompuB                             5472\n",
       "Talbot Street North                                 5641\n",
       "Doilier Street, Burgh Quay                          5484\n",
       "Dawson Street Replacement                          31673\n",
       "Dame Street                                         5472\n",
       "Talbot Street South                                 5496\n",
       "O'Connell St, Parnell St @ AIB                      7400\n",
       "Grafton Street / Nassau Street / Suffolk Street     5472\n",
       "College Green, Bank Of Ireland                      5472\n",
       "Henry Street                                        6624\n",
       "Westmoreland Street East                           26277\n",
       "Dawson Street                                      28269\n",
       "Liffey Street                                      26277\n",
       "Westmoreland Street West                           26277\n",
       "Grafton Street                                     26277\n",
       "Bachelors Walk                                      6081\n",
       "College Green @ Church Lane                         6060\n",
       "College Green - Dame St Side                        6060\n",
       "dtype: int64"
      ]
     },
     "execution_count": 103,
     "metadata": {},
     "output_type": "execute_result"
    }
   ],
   "source": [
    "data_2019.isna().sum()"
   ]
  },
  {
   "cell_type": "code",
   "execution_count": 106,
   "id": "0bd868cc",
   "metadata": {},
   "outputs": [],
   "source": [
    "data_2019_cleaned = data_2019.loc[:,['O\\'Connell St Outside Clerys', 'Dawson Street Replacement', 'Westmoreland Street East', 'Dawson Street',\\\n",
    "'Liffey Street', 'Westmoreland Street West', 'Grafton Street']]"
   ]
  },
  {
   "cell_type": "code",
   "execution_count": 117,
   "id": "6e9c9184",
   "metadata": {
    "scrolled": true
   },
   "outputs": [
    {
     "data": {
      "text/plain": [
       "28269"
      ]
     },
     "execution_count": 117,
     "metadata": {},
     "output_type": "execute_result"
    }
   ],
   "source": [
    "data_2019_cleaned['Dawson Street'].isnull().sum()"
   ]
  },
  {
   "cell_type": "code",
   "execution_count": 111,
   "id": "407ad8d6",
   "metadata": {
    "scrolled": true
   },
   "outputs": [
    {
     "data": {
      "text/plain": [
       "34996   NaN\n",
       "34997   NaN\n",
       "34998   NaN\n",
       "34999   NaN\n",
       "35000   NaN\n",
       "35001   NaN\n",
       "35002   NaN\n",
       "35003   NaN\n",
       "35004   NaN\n",
       "35005   NaN\n",
       "35006   NaN\n",
       "35007   NaN\n",
       "35008   NaN\n",
       "35009   NaN\n",
       "35010   NaN\n",
       "35011   NaN\n",
       "35012   NaN\n",
       "35013   NaN\n",
       "35014   NaN\n",
       "35015   NaN\n",
       "35016   NaN\n",
       "35017   NaN\n",
       "35018   NaN\n",
       "35019   NaN\n",
       "35020   NaN\n",
       "35021   NaN\n",
       "35022   NaN\n",
       "35023   NaN\n",
       "35024   NaN\n",
       "35025   NaN\n",
       "35026   NaN\n",
       "35027   NaN\n",
       "35028   NaN\n",
       "35029   NaN\n",
       "35030   NaN\n",
       "35031   NaN\n",
       "35032   NaN\n",
       "35033   NaN\n",
       "35034   NaN\n",
       "35035   NaN\n",
       "Name: Dawson Street, dtype: float64"
      ]
     },
     "execution_count": 111,
     "metadata": {},
     "output_type": "execute_result"
    }
   ],
   "source": [
    "data_2019_cleaned['Dawson Street'].tail(40)"
   ]
  },
  {
   "cell_type": "code",
   "execution_count": 120,
   "id": "f2d2fe3b",
   "metadata": {},
   "outputs": [],
   "source": [
    "data_2019_fw = data_2019_cleaned.loc[:,['Dawson Street', 'Dawson Street Replacement']]"
   ]
  },
  {
   "cell_type": "code",
   "execution_count": 124,
   "id": "d9f26444",
   "metadata": {},
   "outputs": [],
   "source": [
    "data_2019_fw = data_2019_fw.dropna()"
   ]
  },
  {
   "cell_type": "code",
   "execution_count": 125,
   "id": "ade9cdc1",
   "metadata": {},
   "outputs": [
    {
     "data": {
      "text/html": [
       "<div>\n",
       "<style scoped>\n",
       "    .dataframe tbody tr th:only-of-type {\n",
       "        vertical-align: middle;\n",
       "    }\n",
       "\n",
       "    .dataframe tbody tr th {\n",
       "        vertical-align: top;\n",
       "    }\n",
       "\n",
       "    .dataframe thead th {\n",
       "        text-align: right;\n",
       "    }\n",
       "</style>\n",
       "<table border=\"1\" class=\"dataframe\">\n",
       "  <thead>\n",
       "    <tr style=\"text-align: right;\">\n",
       "      <th></th>\n",
       "      <th>Dawson Street</th>\n",
       "      <th>Dawson Street Replacement</th>\n",
       "    </tr>\n",
       "  </thead>\n",
       "  <tbody>\n",
       "  </tbody>\n",
       "</table>\n",
       "</div>"
      ],
      "text/plain": [
       "Empty DataFrame\n",
       "Columns: [Dawson Street, Dawson Street Replacement]\n",
       "Index: []"
      ]
     },
     "execution_count": 125,
     "metadata": {},
     "output_type": "execute_result"
    }
   ],
   "source": [
    "data_2019_fw"
   ]
  },
  {
   "cell_type": "code",
   "execution_count": 79,
   "id": "da5b5ab4",
   "metadata": {},
   "outputs": [
    {
     "data": {
      "text/plain": [
       "8759"
      ]
     },
     "execution_count": 79,
     "metadata": {},
     "output_type": "execute_result"
    }
   ],
   "source": [
    "len(data_2019['O\\'Connell St Outside Clerys']) - data_2019['O\\'Connell St Outside Clerys'].isna().sum()"
   ]
  },
  {
   "cell_type": "code",
   "execution_count": 14,
   "id": "3988c4fe",
   "metadata": {},
   "outputs": [],
   "source": [
    "data_2020 = pd.read_csv('raw_data/jan-dec-2020-ped-data.csv')"
   ]
  },
  {
   "cell_type": "code",
   "execution_count": 89,
   "id": "b041a91d",
   "metadata": {},
   "outputs": [],
   "source": [
    "data_2020 = data_2020.reindex(sorted(data_2020.columns), axis=1)"
   ]
  },
  {
   "cell_type": "code",
   "execution_count": 92,
   "id": "b16167df",
   "metadata": {},
   "outputs": [
    {
     "name": "stdout",
     "output_type": "stream",
     "text": [
      "<class 'pandas.core.frame.DataFrame'>\n",
      "RangeIndex: 8784 entries, 0 to 8783\n",
      "Data columns (total 23 columns):\n",
      " #   Column                                           Non-Null Count  Dtype  \n",
      "---  ------                                           --------------  -----  \n",
      " 0   Aston Quay                                       8783 non-null   float64\n",
      " 1   Bachelors Walk                                   8684 non-null   float64\n",
      " 2   Capel Street - Removed from site 20/10           6791 non-null   float64\n",
      " 3   College Green - Dame St Side                     8783 non-null   float64\n",
      " 4   College Green @ Church Lane                      8783 non-null   float64\n",
      " 5   College Green, Bank Of Ireland                   8783 non-null   float64\n",
      " 6   Dame Street (Counter Missing)                    5897 non-null   float64\n",
      " 7   Date & Time                                      8784 non-null   object \n",
      " 8   Dawson Street Replacement                        8783 non-null   float64\n",
      " 9   Doilier Street, Burgh Quay                       8783 non-null   float64\n",
      " 10  Grafton Street                                   4197 non-null   float64\n",
      " 11  Grafton Street / Nassau Street / Suffolk Street  8783 non-null   float64\n",
      " 12  Grafton Street @ CompuB                          8783 non-null   float64\n",
      " 13  Henry Street                                     7931 non-null   float64\n",
      " 14  Liffey Street                                    8783 non-null   float64\n",
      " 15  Mary Street                                      3431 non-null   float64\n",
      " 16  O'Connell St Outside Clerys                      8783 non-null   float64\n",
      " 17  O'Connell St Outside Pennys                      8783 non-null   float64\n",
      " 18  O'Connell St, Parnell St @ AIB                   8783 non-null   float64\n",
      " 19  Talbot Street North                              8783 non-null   float64\n",
      " 20  Talbot Street South                              8783 non-null   float64\n",
      " 21  Westmoreland Street East                         8783 non-null   float64\n",
      " 22  Westmoreland Street West                         8783 non-null   float64\n",
      "dtypes: float64(22), object(1)\n",
      "memory usage: 1.5+ MB\n"
     ]
    }
   ],
   "source": [
    "data_2020.info()"
   ]
  },
  {
   "cell_type": "code",
   "execution_count": 23,
   "id": "c0c20b16",
   "metadata": {},
   "outputs": [],
   "source": [
    "data_2021 = pd.read_csv('raw_data/dcc-2021-pedestrian-footfall-31072021.csv')"
   ]
  },
  {
   "cell_type": "code",
   "execution_count": 90,
   "id": "2130d030",
   "metadata": {},
   "outputs": [],
   "source": [
    "data_2021 = data_2021.reindex(sorted(data_2021.columns), axis=1)"
   ]
  },
  {
   "cell_type": "code",
   "execution_count": 93,
   "id": "47dcea5c",
   "metadata": {
    "scrolled": true
   },
   "outputs": [
    {
     "name": "stdout",
     "output_type": "stream",
     "text": [
      "<class 'pandas.core.frame.DataFrame'>\n",
      "RangeIndex: 5088 entries, 0 to 5087\n",
      "Data columns (total 35 columns):\n",
      " #   Column                                           Non-Null Count  Dtype  \n",
      "---  ------                                           --------------  -----  \n",
      " 0   Aston Quay/Fitzgeralds                           2796 non-null   float64\n",
      " 1   Bachelors walk/Bachelors way                     5087 non-null   float64\n",
      " 2   Baggot st lower/Wilton tce inbound               5079 non-null   float64\n",
      " 3   Baggot st upper/Mespil rd/Bank                   5079 non-null   float64\n",
      " 4   Capel st/Mary street                             816 non-null    float64\n",
      " 5   College Green/Bank Of Ireland                    5060 non-null   float64\n",
      " 6   College Green/Church Lane                        5087 non-null   float64\n",
      " 7   College st/Westmoreland st                       5087 non-null   float64\n",
      " 8   D'olier st/Burgh Quay                            5087 non-null   float64\n",
      " 9   Dame Street/Londis                               816 non-null    float64\n",
      " 10  Date and Time                                    5088 non-null   object \n",
      " 11  Dawson Street/Molesworth                         5087 non-null   float64\n",
      " 12  Grafton Street / Nassau Street / Suffolk Street  5087 non-null   float64\n",
      " 13  Grafton Street/CompuB                            5033 non-null   float64\n",
      " 14  Grafton st/Monsoon                               5078 non-null   float64\n",
      " 15  Grand Canal st upp/Clanwilliam place             5078 non-null   float64\n",
      " 16  Grand Canal st upp/Clanwilliam place/Google      5073 non-null   float64\n",
      " 17  Henry Street/Coles Lane/Dunnes                   5087 non-null   float64\n",
      " 18  Liffey st/Halfpenny Bridge                       5087 non-null   float64\n",
      " 19  Mary st/Jervis st                                816 non-null    float64\n",
      " 20  Newcomen Bridge/Charleville mall inbound         5075 non-null   float64\n",
      " 21  Newcomen Bridge/Charleville mall outbound        5074 non-null   float64\n",
      " 22  North Wall Quay/Samuel Beckett bridge East       5087 non-null   float64\n",
      " 23  North Wall Quay/Samuel Beckett bridge West       5087 non-null   float64\n",
      " 24  O'Connell St/Parnell St/AIB                      5087 non-null   float64\n",
      " 25  O'Connell St/Pennys                              3640 non-null   float64\n",
      " 26  O'Connell st/Princes st North                    5087 non-null   float64\n",
      " 27  Phibsborough Rd/Enniskerry Road                  5087 non-null   float64\n",
      " 28  Phibsborough Rd/Munster St                       798 non-null    float64\n",
      " 29  Richmond st south/Portabello Harbour inbound     5079 non-null   float64\n",
      " 30  Richmond st south/Portabello Harbour outbound    5080 non-null   float64\n",
      " 31  Talbot st/Guineys                                5060 non-null   float64\n",
      " 32  Talbot st/Murrays Pharmacy                       5087 non-null   float64\n",
      " 33  Westmoreland Street East/Fleet street            5087 non-null   float64\n",
      " 34  Westmoreland Street West/Carrolls                5087 non-null   float64\n",
      "dtypes: float64(34), object(1)\n",
      "memory usage: 1.4+ MB\n"
     ]
    }
   ],
   "source": [
    "data_2021.info()"
   ]
  },
  {
   "cell_type": "markdown",
   "id": "eef00d3e",
   "metadata": {},
   "source": [
    "# Liste des capteurs ajoutés en 2021\n",
    "\n",
    "2   Baggot st lower/Wilton tce inbound               5079 non-null   float64\n",
    " 3   Baggot st upper/Mespil rd/Bank \n",
    "\n",
    " 15  Grand Canal st upp/Clanwilliam place             5078 non-null   float64\n",
    " 16  Grand Canal st upp/Clanwilliam place/Google\n",
    "\n",
    "Newcomen Bridge/Charleville mall inbound         5075 non-null   float64\n",
    " 21  Newcomen Bridge/Charleville mall outbound        5074 non-null   float64\n",
    " 22  North Wall Quay/Samuel Beckett bridge East       5087 non-null   float64\n",
    " 23  North Wall Quay/Samuel Beckett bridge Wes\n",
    "\n",
    "27  Phibsborough Rd/Enniskerry Road                  5087 non-null   float64\n",
    " 28  Phibsborough Rd/Munster St                       798 non-null    float64\n",
    " 29  Richmond st south/Portabello Harbour inbound     5079 non-null   float64\n",
    " 30  Richmond st south/Portabello Harbour outbound "
   ]
  }
 ],
 "metadata": {
  "kernelspec": {
   "display_name": "slcities_env",
   "language": "python",
   "name": "slcities_env"
  },
  "language_info": {
   "codemirror_mode": {
    "name": "ipython",
    "version": 3
   },
   "file_extension": ".py",
   "mimetype": "text/x-python",
   "name": "python",
   "nbconvert_exporter": "python",
   "pygments_lexer": "ipython3",
   "version": "3.8.6"
  },
  "toc": {
   "base_numbering": 1,
   "nav_menu": {},
   "number_sections": true,
   "sideBar": true,
   "skip_h1_title": false,
   "title_cell": "Table of Contents",
   "title_sidebar": "Contents",
   "toc_cell": false,
   "toc_position": {},
   "toc_section_display": true,
   "toc_window_display": false
  }
 },
 "nbformat": 4,
 "nbformat_minor": 5
}
